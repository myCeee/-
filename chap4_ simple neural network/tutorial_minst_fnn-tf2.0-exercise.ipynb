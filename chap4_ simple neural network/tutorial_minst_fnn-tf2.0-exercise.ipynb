{
 "cells": [
  {
   "cell_type": "markdown",
   "metadata": {},
   "source": [
    "## 准备数据"
   ]
  },
  {
   "cell_type": "code",
   "execution_count": 16,
   "metadata": {},
   "outputs": [],
   "source": [
    "import os \n",
    "import numpy as np  \n",
    "import tensorflow as tf  \n",
    "from tensorflow import keras  \n",
    "from tensorflow.keras import layers, optimizers, datasets  \n",
    "\n",
    "os.environ['TF_CPP_MIN_LOG_LEVEL'] = '2'  # 设置环境变量以抑制TensorFlow日志消息\n",
    "\n",
    "def mnist_dataset():\n",
    "    (x, y), (x_test, y_test) = datasets.mnist.load_data()  # 将MNIST数据集加载到训练和测试数据中\n",
    "    # 对图像的像素值进行归一化\n",
    "    x = x / 255.0  # 归一化训练数据\n",
    "    x_test = x_test / 255.0  # 归一化测试数据\n",
    "    \n",
    "    return (x, y), (x_test, y_test)  # 返回归一化的训练和测试数据\n"
   ]
  },
  {
   "cell_type": "code",
   "execution_count": 17,
   "metadata": {},
   "outputs": [
    {
     "name": "stdout",
     "output_type": "stream",
     "text": [
      "[(1, 'a'), (2, 'b'), (3, 'c'), (4, 'd')]\n"
     ]
    }
   ],
   "source": [
    "print(list(zip([1, 2, 3, 4], ['a', 'b', 'c', 'd'])))"
   ]
  },
  {
   "cell_type": "markdown",
   "metadata": {},
   "source": [
    "## 建立模型"
   ]
  },
  {
   "cell_type": "code",
   "execution_count": 18,
   "metadata": {},
   "outputs": [],
   "source": [
    "class myModel(keras.Model):\n",
    "    def __init__(self):\n",
    "        ####################\n",
    "        '''声明模型对应的参数'''\n",
    "        ####################\n",
    "        super(myModel, self).__init__()\n",
    "        self.flatten = layers.Flatten()  # 展平层，将输入展平为一维向量\n",
    "        self.dense1 = layers.Dense(128, activation='relu')  # 第一个全连接层，128个神经元，ReLU激活函数\n",
    "        self.dense2 = layers.Dense(10)  # 第二个全连接层，10个神经元，没有激活函数\n",
    "\n",
    "\n",
    "    def __call__(self, x):\n",
    "        ####################\n",
    "        '''实现模型函数体，返回未归一化的logits'''\n",
    "        ####################\n",
    "        x = self.flatten(x)  # 将输入展平为一维向量\n",
    "        x = self.dense1(x)  # 第一个全连接层\n",
    "        x = self.dense2(x)  # 第二个全连接层\n",
    "\n",
    "        # return logits\n",
    "        return x\n",
    "    \n",
    "        \n",
    "model = myModel()\n",
    "\n",
    "optimizer = optimizers.Adam()"
   ]
  },
  {
   "cell_type": "markdown",
   "metadata": {},
   "source": [
    "## 计算 loss"
   ]
  },
  {
   "cell_type": "code",
   "execution_count": 19,
   "metadata": {},
   "outputs": [],
   "source": [
    "@tf.function\n",
    "def compute_loss(logits, labels):\n",
    "    return tf.reduce_mean(  \n",
    "        tf.nn.sparse_softmax_cross_entropy_with_logits(  # 计算稀疏softmax交叉熵损失\n",
    "            logits=logits, labels=labels))  # 使用logits和标签计算损失\n",
    "\n",
    "@tf.function\n",
    "def compute_accuracy(logits, labels):\n",
    "    predictions = tf.argmax(logits, axis=1)  # 获取logits中每个样本预测的类别\n",
    "    return tf.reduce_mean(tf.cast(tf.equal(predictions, labels), tf.float32))  # 计算准确率\n",
    "\n",
    "@tf.function\n",
    "def train_one_step(model, optimizer, x, y):\n",
    "    with tf.GradientTape() as tape:  # 创建记录梯度的上下文管理器\n",
    "        logits = model(x)  # 获取模型的logits\n",
    "        loss = compute_loss(logits, y)  # 计算损失函数\n",
    "\n",
    "    trainable_vars = model.trainable_variables  # 获取可训练参数列表\n",
    "    grads = tape.gradient(loss, trainable_vars)  # 计算梯度\n",
    "    optimizer.apply_gradients(zip(grads, trainable_vars))  # 使用优化器更新参数\n",
    "\n",
    "    accuracy = compute_accuracy(logits, y)  # 计算准确率\n",
    "\n",
    "    # 损失和准确率是标量张量\n",
    "    return loss, accuracy\n",
    "\n",
    "@tf.function\n",
    "def test(model, x, y):\n",
    "    logits = model(x)  # 获取模型的logits\n",
    "    loss = compute_loss(logits, y)  # 计算损失函数\n",
    "    accuracy = compute_accuracy(logits, y)  # 计算准确率\n",
    "    return loss, accuracy\n"
   ]
  },
  {
   "cell_type": "markdown",
   "metadata": {},
   "source": [
    "## 实际训练"
   ]
  },
  {
   "cell_type": "code",
   "execution_count": 20,
   "metadata": {},
   "outputs": [
    {
     "name": "stdout",
     "output_type": "stream",
     "text": [
      "epoch 0 : loss 2.4027283 ; accuracy 0.0729\n",
      "epoch 1 : loss 2.234963 ; accuracy 0.17641667\n",
      "epoch 2 : loss 2.0854886 ; accuracy 0.3315\n",
      "epoch 3 : loss 1.9496121 ; accuracy 0.45536667\n",
      "epoch 4 : loss 1.823599 ; accuracy 0.53721666\n",
      "epoch 5 : loss 1.7050716 ; accuracy 0.5979\n",
      "epoch 6 : loss 1.5928643 ; accuracy 0.6458167\n",
      "epoch 7 : loss 1.486653 ; accuracy 0.68675\n",
      "epoch 8 : loss 1.386588 ; accuracy 0.71968335\n",
      "epoch 9 : loss 1.2931621 ; accuracy 0.7432333\n",
      "epoch 10 : loss 1.2067496 ; accuracy 0.7619\n",
      "epoch 11 : loss 1.1273943 ; accuracy 0.77676666\n",
      "epoch 12 : loss 1.0548664 ; accuracy 0.78815\n",
      "epoch 13 : loss 0.9887492 ; accuracy 0.7966167\n",
      "epoch 14 : loss 0.9286861 ; accuracy 0.80471665\n",
      "epoch 15 : loss 0.8744337 ; accuracy 0.81191665\n",
      "epoch 16 : loss 0.8257808 ; accuracy 0.8186833\n",
      "epoch 17 : loss 0.7823361 ; accuracy 0.82423335\n",
      "epoch 18 : loss 0.7434625 ; accuracy 0.8286\n",
      "epoch 19 : loss 0.7084825 ; accuracy 0.83311665\n",
      "epoch 20 : loss 0.67688894 ; accuracy 0.8380833\n",
      "epoch 21 : loss 0.6484126 ; accuracy 0.84251666\n",
      "epoch 22 : loss 0.6228622 ; accuracy 0.8459167\n",
      "epoch 23 : loss 0.5999506 ; accuracy 0.84943336\n",
      "epoch 24 : loss 0.57927513 ; accuracy 0.8526667\n",
      "epoch 25 : loss 0.5604659 ; accuracy 0.8559333\n",
      "epoch 26 : loss 0.5432959 ; accuracy 0.8594667\n",
      "epoch 27 : loss 0.5276395 ; accuracy 0.86263335\n",
      "epoch 28 : loss 0.5133818 ; accuracy 0.86545\n",
      "epoch 29 : loss 0.5003428 ; accuracy 0.86825\n",
      "epoch 30 : loss 0.4883185 ; accuracy 0.87086666\n",
      "epoch 31 : loss 0.47715455 ; accuracy 0.87306666\n",
      "epoch 32 : loss 0.46680248 ; accuracy 0.8750167\n",
      "epoch 33 : loss 0.45722482 ; accuracy 0.87726665\n",
      "epoch 34 : loss 0.44833434 ; accuracy 0.8792167\n",
      "epoch 35 : loss 0.44000033 ; accuracy 0.8810667\n",
      "epoch 36 : loss 0.43212676 ; accuracy 0.88265\n",
      "epoch 37 : loss 0.42467487 ; accuracy 0.8844333\n",
      "epoch 38 : loss 0.4176465 ; accuracy 0.88591665\n",
      "epoch 39 : loss 0.41102457 ; accuracy 0.8879\n",
      "epoch 40 : loss 0.40476993 ; accuracy 0.8893333\n",
      "epoch 41 : loss 0.3988345 ; accuracy 0.8915833\n",
      "epoch 42 : loss 0.39318907 ; accuracy 0.89281666\n",
      "epoch 43 : loss 0.38781974 ; accuracy 0.89415\n",
      "epoch 44 : loss 0.38271582 ; accuracy 0.8951833\n",
      "epoch 45 : loss 0.3778528 ; accuracy 0.89636666\n",
      "epoch 46 : loss 0.37320372 ; accuracy 0.89736664\n",
      "epoch 47 : loss 0.36874598 ; accuracy 0.89835\n",
      "epoch 48 : loss 0.36447266 ; accuracy 0.8994\n",
      "epoch 49 : loss 0.36037585 ; accuracy 0.90073335\n",
      "test loss 0.34692603 ; accuracy 0.9052\n"
     ]
    }
   ],
   "source": [
    "train_data, test_data = mnist_dataset()\n",
    "for epoch in range(50):\n",
    "    loss, accuracy = train_one_step(model, optimizer, \n",
    "                                    tf.constant(train_data[0], dtype=tf.float32), \n",
    "                                    tf.constant(train_data[1], dtype=tf.int64))\n",
    "    print('epoch', epoch, ': loss', loss.numpy(), '; accuracy', accuracy.numpy())\n",
    "loss, accuracy = test(model, \n",
    "                      tf.constant(test_data[0], dtype=tf.float32), \n",
    "                      tf.constant(test_data[1], dtype=tf.int64))\n",
    "\n",
    "print('test loss', loss.numpy(), '; accuracy', accuracy.numpy())"
   ]
  }
 ],
 "metadata": {
  "kernelspec": {
   "display_name": "Python 3",
   "language": "python",
   "name": "python3"
  },
  "language_info": {
   "codemirror_mode": {
    "name": "ipython",
    "version": 3
   },
   "file_extension": ".py",
   "mimetype": "text/x-python",
   "name": "python",
   "nbconvert_exporter": "python",
   "pygments_lexer": "ipython3",
   "version": "3.9.13"
  }
 },
 "nbformat": 4,
 "nbformat_minor": 2
}
